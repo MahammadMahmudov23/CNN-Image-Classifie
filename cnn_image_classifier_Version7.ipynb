{
 "cells": [
  {
   "cell_type": "markdown",
   "metadata": {},
   "source": [
    "# CNN Image Classifier (CIFAR-10)\n",
    "\n",
    "This notebook demonstrates image classification using a Convolutional Neural Network (CNN) on the CIFAR-10 dataset. It covers data loading, model training, data augmentation, transfer learning, and evaluation."
   ]
  },
  {
   "cell_type": "code",
   "metadata": {},
   "source": [
    "# Imports\n",
    "import tensorflow as tf\n",
    "from tensorflow.keras import layers, models\n",
    "import numpy as np\n",
    "import matplotlib.pyplot as plt"
   ],
   "execution_count": 1,
   "outputs": []
  },
  {
   "cell_type": "markdown",
   "metadata": {},
   "source": [
    "## 1. Load and Visualize CIFAR-10 Data"
   ]
  },
  {
   "cell_type": "code",
   "metadata": {},
   "source": [
    "(x_train, y_train), (x_test, y_test) = tf.keras.datasets.cifar10.load_data()\n",
    "class_names = ['airplane','automobile','bird','cat','deer','dog','frog','horse','ship','truck']\n",
    "print('Train shape:', x_train.shape, y_train.shape)\n",
    "print('Test shape:', x_test.shape, y_test.shape)\n",
    "\n",
    "# Visualize a few images\n",
    "plt.figure(figsize=(10,2))\n",
    "for i in range(10):\n",
    "    plt.subplot(1,10,i+1)\n",
    "    plt.imshow(x_train[i])\n",
    "    plt.axis('off')\n",
    "    plt.title(class_names[y_train[i][0]], fontsize=8)\n",
    "plt.show()"
   ],
   "execution_count": 2,
   "outputs": []
  },
  {
   "cell_type": "markdown",
   "metadata": {},
   "source": [
    "## 2. Normalize Data"
   ]
  },
  {
   "cell_type": "code",
   "metadata": {},
   "source": [
    "# Normalize pixel values\n",
    "x_train, x_test = x_train / 255.0, x_test / 255.0"
   ],
   "execution_count": 3,
   "outputs": []
  },
  {
   "cell_type": "markdown",
   "metadata": {},
   "source": [
    "## 3. Build and Train Baseline CNN"
   ]
  },
  {
   "cell_type": "code",
   "metadata": {},
   "source": [
    "model = models.Sequential([\n",
    "    layers.Conv2D(32, (3,3), activation='relu', input_shape=(32,32,3)),\n",
    "    layers.MaxPooling2D((2,2)),\n",
    "    layers.Conv2D(64, (3,3), activation='relu'),\n",
    "    layers.MaxPooling2D((2,2)),\n",
    "    layers.Conv2D(64, (3,3), activation='relu'),\n",
    "    layers.Flatten(),\n",
    "    layers.Dense(64, activation='relu'),\n",
    "    layers.Dense(10, activation='softmax')\n",
    "])\n",
    "model.compile(optimizer='adam', loss='sparse_categorical_crossentropy', metrics=['accuracy'])\n",
    "model.summary()"
   ],
   "execution_count": 4,
   "outputs": []
  },
  {
   "cell_type": "code",
   "metadata": {},
   "source": [
    "# Train baseline model\n",
    "history = model.fit(x_train, y_train, epochs=10, validation_data=(x_test, y_test))\n",
    "model.save('models/baseline_cnn.h5')"
   ],
   "execution_count": 5,
   "outputs": []
  },
  {
   "cell_type": "markdown",
   "metadata": {},
   "source": [
    "## 4. Plot Training History"
   ]
  },
  {
   "cell_type": "code",
   "metadata": {},
   "source": [
    "plt.figure()\n",
    "plt.plot(history.history['accuracy'], label='train acc')\n",
    "plt.plot(history.history['val_accuracy'], label='val acc')\n",
    "plt.xlabel('Epoch')\n",
    "plt.ylabel('Accuracy')\n",
    "plt.legend()\n",
    "plt.title('Baseline CNN Accuracy')\n",
    "plt.savefig('plots/baseline_cnn_accuracy.png')\n",
    "plt.show()"
   ],
   "execution_count": 6,
   "outputs": []
  },
  {
   "cell_type": "markdown",
   "metadata": {},
   "source": [
    "## 5. Data Augmentation"
   ]
  },
  {
   "cell_type": "code",
   "metadata": {},
   "source": [
    "from tensorflow.keras.preprocessing.image import ImageDataGenerator\n",
    "datagen = ImageDataGenerator(\n",
    "    rotation_range=15,\n",
    "    width_shift_range=0.1,\n",
    "    height_shift_range=0.1,\n",
    "    horizontal_flip=True\n",
    ")\n",
    "datagen.fit(x_train)\n",
    "\n",
    "# Train model with augmentation\n",
    "aug_model = models.clone_model(model)\n",
    "aug_model.set_weights(model.get_weights())\n",
    "aug_model.compile(optimizer='adam', loss='sparse_categorical_crossentropy', metrics=['accuracy'])\n",
    "\n",
    "aug_history = aug_model.fit(datagen.flow(x_train, y_train, batch_size=64),\n",
    "                           epochs=10, validation_data=(x_test, y_test))\n",
    "aug_model.save('models/augmented_cnn.h5')"
   ],
   "execution_count": 7,
   "outputs": []
  },
  {
   "cell_type": "code",
   "metadata": {},
   "source": [
    "# Plot accuracy with augmentation\n",
    "plt.figure()\n",
    "plt.plot(aug_history.history['accuracy'], label='train acc (aug)')\n",
    "plt.plot(aug_history.history['val_accuracy'], label='val acc (aug)')\n",
    "plt.xlabel('Epoch')\n",
    "plt.ylabel('Accuracy')\n",
    "plt.legend()\n",
    "plt.title('Augmented CNN Accuracy')\n",
    "plt.savefig('plots/augmented_cnn_accuracy.png')\n",
    "plt.show()"
   ],
   "execution_count": 8,
   "outputs": []
  },
  {
   "cell_type": "markdown",
   "metadata": {},
   "source": [
    "## 6. Transfer Learning with ResNet50"
   ]
  },
  {
   "cell_type": "code",
   "metadata": {},
   "source": [
    "from tensorflow.keras.applications import ResNet50\n",
    "from tensorflow.keras.layers import GlobalAveragePooling2D, Dense, Dropout\n",
    "\n",
    "resnet = ResNet50(weights='imagenet', include_top=False, input_shape=(32,32,3))\n",
    "resnet.trainable = False\n",
    "\n",
    "tl_model = models.Sequential([\n",
    "    resnet,\n",
    "    GlobalAveragePooling2D(),\n",
    "    Dense(128, activation='relu'),\n",
    "    Dropout(0.3),\n",
    "    Dense(10, activation='softmax')\n",
    "])\n",
    "tl_model.compile(optimizer='adam', loss='sparse_categorical_crossentropy', metrics=['accuracy'])\n",
    "\n",
    "tl_history = tl_model.fit(datagen.flow(x_train, y_train, batch_size=64),\n",
    "                         epochs=5, validation_data=(x_test, y_test))\n",
    "tl_model.save('models/resnet_cnn.h5')"
   ],
   "execution_count": 9,
   "outputs": []
  },
  {
   "cell_type": "code",
   "metadata": {},
   "source": [
    "# Plot accuracy for transfer learning\n",
    "plt.figure()\n",
    "plt.plot(tl_history.history['accuracy'], label='train acc (ResNet)')\n",
    "plt.plot(tl_history.history['val_accuracy'], label='val acc (ResNet)')\n",
    "plt.xlabel('Epoch')\n",
    "plt.ylabel('Accuracy')\n",
    "plt.legend()\n",
    "plt.title('Transfer Learning (ResNet50) Accuracy')\n",
    "plt.savefig('plots/resnet_cnn_accuracy.png')\n",
    "plt.show()"
   ],
   "execution_count": 10,
   "outputs": []
  },
  {
   "cell_type": "markdown",
   "metadata": {},
   "source": [
    "## 7. Evaluate and Show Sample Predictions"
   ]
  },
  {
   "cell_type": "code",
   "metadata": {},
   "source": [
    "preds = np.argmax(tl_model.predict(x_test[:10]), axis=1)\n",
    "plt.figure(figsize=(10,2))\n",
    "for i in range(10):\n",
    "    plt.subplot(1,10,i+1)\n",
    "    plt.imshow(x_test[i])\n",
    "    plt.axis('off')\n",
    "    plt.title(f\"Pred: {class_names[preds[i]]}\", fontsize=8)\n",
    "plt.show()"
   ],
   "execution_count": 11,
   "outputs": []
  }
 ],
 "metadata": {
  "kernelspec": {
   "display_name": "Python 3",
   "language": "python",
   "name": "python3"
  }
 },
 "nbformat": 4,
 "nbformat_minor": 5
}